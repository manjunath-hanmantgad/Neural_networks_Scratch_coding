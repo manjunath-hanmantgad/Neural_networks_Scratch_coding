{
 "cells": [
  {
   "cell_type": "code",
   "execution_count": 2,
   "id": "588feb87",
   "metadata": {},
   "outputs": [],
   "source": [
    "import numpy as np"
   ]
  },
  {
   "cell_type": "code",
   "execution_count": 3,
   "id": "9f145a8a",
   "metadata": {},
   "outputs": [
    {
     "data": {
      "text/plain": [
       "'1.15.0'"
      ]
     },
     "execution_count": 3,
     "metadata": {},
     "output_type": "execute_result"
    }
   ],
   "source": [
    "np.__version__"
   ]
  },
  {
   "cell_type": "code",
   "execution_count": 5,
   "id": "dbfeafb5",
   "metadata": {},
   "outputs": [],
   "source": [
    "inputs = [1,2,3]\n",
    "weights = [0.2,0.8,-0.5]\n",
    "bias = 2"
   ]
  },
  {
   "cell_type": "code",
   "execution_count": 6,
   "id": "5b43c7dc",
   "metadata": {},
   "outputs": [
    {
     "data": {
      "text/plain": [
       "2.3"
      ]
     },
     "execution_count": 6,
     "metadata": {},
     "output_type": "execute_result"
    }
   ],
   "source": [
    "output = (inputs[0]*weights[0]\n",
    "         + inputs[1]*weights[1]\n",
    "         + inputs[2]*weights[2]\n",
    "         + bias)\n",
    "output"
   ]
  },
  {
   "cell_type": "code",
   "execution_count": 11,
   "id": "d1d4ac9f",
   "metadata": {},
   "outputs": [],
   "source": [
    "# fully connected neurons \n",
    "\n",
    "inputs = [1,2,3,2.5]\n",
    "weights = [[0.2,0.8,-0.5,1],\n",
    "          [0.5,-0.91,0.26,-0.5],\n",
    "          [-0.26,-0.27,0.17,0.87]]\n",
    "biases = [2,3,0.5]\n"
   ]
  },
  {
   "cell_type": "code",
   "execution_count": 15,
   "id": "f73073ec",
   "metadata": {},
   "outputs": [
    {
     "data": {
      "text/plain": [
       "[4.8, 1.21, 2.385]"
      ]
     },
     "execution_count": 15,
     "metadata": {},
     "output_type": "execute_result"
    }
   ],
   "source": [
    "# output of current layers \n",
    "\n",
    "layer_outputs = []\n",
    "\n",
    "# for each neuron \n",
    "\n",
    "for neuron_weights , neuron_bias in zip(weights,biases):\n",
    "    neuron_output = 0\n",
    "    \n",
    "    # for each ip and op of neuron\n",
    "    \n",
    "    for n_input,weight in zip(inputs,neuron_weights):\n",
    "        # now multiply ip with its weights\n",
    "        # and add to neuron op \n",
    "        neuron_output += n_input*weight \n",
    "    \n",
    "    # add bias \n",
    "    neuron_output += neuron_bias\n",
    "    \n",
    "    # put neurons result to layers output \n",
    "    layer_outputs.append(neuron_output)\n",
    "\n",
    "\n",
    "layer_outputs"
   ]
  },
  {
   "cell_type": "code",
   "execution_count": null,
   "id": "a9852fc1",
   "metadata": {},
   "outputs": [],
   "source": []
  },
  {
   "cell_type": "code",
   "execution_count": null,
   "id": "63169b5f",
   "metadata": {},
   "outputs": [],
   "source": []
  }
 ],
 "metadata": {
  "kernelspec": {
   "display_name": "Python 3 (ipykernel)",
   "language": "python",
   "name": "python3"
  },
  "language_info": {
   "codemirror_mode": {
    "name": "ipython",
    "version": 3
   },
   "file_extension": ".py",
   "mimetype": "text/x-python",
   "name": "python",
   "nbconvert_exporter": "python",
   "pygments_lexer": "ipython3",
   "version": "3.7.5"
  }
 },
 "nbformat": 4,
 "nbformat_minor": 5
}
